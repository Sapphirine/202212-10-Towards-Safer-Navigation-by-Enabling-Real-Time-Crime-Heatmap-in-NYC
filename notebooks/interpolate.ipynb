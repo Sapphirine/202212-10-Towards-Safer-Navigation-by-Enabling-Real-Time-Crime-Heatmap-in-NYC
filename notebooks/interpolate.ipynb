{
 "cells": [
  {
   "cell_type": "code",
   "execution_count": 23,
   "id": "84b490c5",
   "metadata": {},
   "outputs": [],
   "source": [
    "import numpy as np\n",
    "from math import sin, cos, sqrt, atan2, dist"
   ]
  },
  {
   "cell_type": "code",
   "execution_count": 17,
   "id": "6e7dd446",
   "metadata": {},
   "outputs": [],
   "source": [
    "route = [(1,1),(2,1),(2,2),(3,2)]\n",
    "[Latitude,Longitude]"
   ]
  },
  {
   "cell_type": "code",
   "execution_count": 35,
   "id": "759f00a5",
   "metadata": {},
   "outputs": [],
   "source": [
    "def interpolate(start, end, interval=0.0001, result=None):\n",
    "    if result is None:\n",
    "        result = [start]\n",
    "    if dist(start,end) < interval:\n",
    "        if end != start:\n",
    "            result.append(end)\n",
    "    else:\n",
    "        direction = atan2(end[1]-start[1], end[0]-start[0])\n",
    "        new_lat = start[0] + interval * cos(direction)\n",
    "        new_lon = start[1] + interval * sin(direction)\n",
    "        new_loc = [new_lat,new_lon]\n",
    "        result.append(new_loc)\n",
    "        interpolate(new_loc, end, interval=interval, result=result)\n",
    "    return result"
   ]
  },
  {
   "cell_type": "code",
   "execution_count": 36,
   "id": "e9409969",
   "metadata": {},
   "outputs": [
    {
     "name": "stdout",
     "output_type": "stream",
     "text": [
      "[[1, 1], [1.25, 1.0], [1.5, 1.0], [1.75, 1.0], [2.0, 1.0]]\n"
     ]
    }
   ],
   "source": [
    "print(interpolate([1,1],[2,1], 0.25))"
   ]
  },
  {
   "cell_type": "code",
   "execution_count": 38,
   "id": "71260953",
   "metadata": {},
   "outputs": [
    {
     "data": {
      "text/plain": [
       "[1, 2, 3, 4]"
      ]
     },
     "execution_count": 38,
     "metadata": {},
     "output_type": "execute_result"
    }
   ],
   "source": [
    "l = []\n",
    "l1 = [1,2,3,4]\n",
    "l = l+l1\n",
    "l"
   ]
  },
  {
   "cell_type": "code",
   "execution_count": 39,
   "id": "4076cd5a",
   "metadata": {},
   "outputs": [
    {
     "data": {
      "text/plain": [
       "[1, 2, 3, 4, 2, 4, 6, 7]"
      ]
     },
     "execution_count": 39,
     "metadata": {},
     "output_type": "execute_result"
    }
   ],
   "source": [
    "l2 = [2,4,6,7]\n",
    "l+l2"
   ]
  },
  {
   "cell_type": "code",
   "execution_count": 40,
   "id": "80795e69",
   "metadata": {},
   "outputs": [
    {
     "data": {
      "text/plain": [
       "[(1, 1),\n",
       " [1.25, 1.0],\n",
       " [1.5, 1.0],\n",
       " [1.75, 1.0],\n",
       " [2.0, 1.0],\n",
       " (2, 1),\n",
       " (2, 1),\n",
       " [2.0, 1.25],\n",
       " [2.0, 1.5],\n",
       " [2.0, 1.75],\n",
       " [2.0, 2.0],\n",
       " (2, 2),\n",
       " (2, 2),\n",
       " [2.25, 2.0],\n",
       " [2.5, 2.0],\n",
       " [2.75, 2.0],\n",
       " [3.0, 2.0],\n",
       " (3, 2)]"
      ]
     },
     "execution_count": 40,
     "metadata": {},
     "output_type": "execute_result"
    }
   ],
   "source": [
    "full_path = []\n",
    "for i in range(len(route)-1):\n",
    "    full_path = full_path + interpolate(route[i], route[i+1], interval=0.25)\n",
    "full_path"
   ]
  },
  {
   "cell_type": "code",
   "execution_count": 12,
   "id": "8d010a42",
   "metadata": {},
   "outputs": [
    {
     "name": "stdout",
     "output_type": "stream",
     "text": [
      "start:(1, 1), end:(2, 1)\n",
      "start:(2, 1), end:(2, 2)\n",
      "start:(2, 2), end:(3, 2)\n"
     ]
    }
   ],
   "source": [
    "\n",
    "for i in range(len(route)-1):\n",
    "    start, end = route[i],route[i+1]\n",
    "    print(f'start:{start}, end:{end}')"
   ]
  },
  {
   "cell_type": "code",
   "execution_count": null,
   "id": "bb879772",
   "metadata": {},
   "outputs": [],
   "source": []
  }
 ],
 "metadata": {
  "kernelspec": {
   "display_name": "Python 3",
   "language": "python",
   "name": "python3"
  },
  "language_info": {
   "codemirror_mode": {
    "name": "ipython",
    "version": 3
   },
   "file_extension": ".py",
   "mimetype": "text/x-python",
   "name": "python",
   "nbconvert_exporter": "python",
   "pygments_lexer": "ipython3",
   "version": "3.8.8"
  }
 },
 "nbformat": 4,
 "nbformat_minor": 5
}
