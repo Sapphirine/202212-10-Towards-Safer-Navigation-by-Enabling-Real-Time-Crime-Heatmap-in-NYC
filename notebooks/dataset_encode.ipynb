{
 "cells": [
  {
   "cell_type": "code",
   "execution_count": 36,
   "id": "c6d1ed0a",
   "metadata": {},
   "outputs": [],
   "source": [
    "import pandas as pd"
   ]
  },
  {
   "cell_type": "code",
   "execution_count": 37,
   "id": "735bc94f",
   "metadata": {},
   "outputs": [],
   "source": [
    "df = pd.read_csv('./Datasets/dataset.csv')"
   ]
  },
  {
   "cell_type": "code",
   "execution_count": 38,
   "id": "cf91733c",
   "metadata": {},
   "outputs": [],
   "source": [
    "df = df.loc[df['Victim_AGE'].isin(['25-44', '18-24', '45-64', '<18', '65+'])]"
   ]
  },
  {
   "cell_type": "code",
   "execution_count": 39,
   "id": "274df3b5",
   "metadata": {},
   "outputs": [],
   "source": [
    "df = df.loc[~df['Victim_RACE'].isin(['OTHER'])]"
   ]
  },
  {
   "cell_type": "code",
   "execution_count": 40,
   "id": "5066bbba",
   "metadata": {},
   "outputs": [],
   "source": [
    "df.to_csv('./Datasets/dataset.csv',index=False, header=['Timestamp','Latitude','Longitude','Victim_AGE','Victim_RACE','Victim_Sex', 'Category'])\n",
    "\n"
   ]
  },
  {
   "cell_type": "code",
   "execution_count": 41,
   "id": "fd61f667",
   "metadata": {},
   "outputs": [],
   "source": [
    "y, labels = pd.factorize(['a', 'b', 'c'])"
   ]
  },
  {
   "cell_type": "code",
   "execution_count": 42,
   "id": "b32ba9fd",
   "metadata": {},
   "outputs": [
    {
     "data": {
      "text/plain": [
       "array([0, 1, 2])"
      ]
     },
     "execution_count": 42,
     "metadata": {},
     "output_type": "execute_result"
    }
   ],
   "source": [
    "y"
   ]
  },
  {
   "cell_type": "code",
   "execution_count": 44,
   "id": "a7c3b7fb",
   "metadata": {},
   "outputs": [
    {
     "data": {
      "text/plain": [
       "'a'"
      ]
     },
     "execution_count": 44,
     "metadata": {},
     "output_type": "execute_result"
    }
   ],
   "source": [
    "labels[0]"
   ]
  },
  {
   "cell_type": "code",
   "execution_count": 47,
   "id": "7568eb09",
   "metadata": {},
   "outputs": [],
   "source": [
    "dict_test = dict(zip(y, labels))"
   ]
  },
  {
   "cell_type": "code",
   "execution_count": 48,
   "id": "be648d25",
   "metadata": {},
   "outputs": [
    {
     "data": {
      "text/plain": [
       "{0: 'a', 1: 'b', 2: 'c'}"
      ]
     },
     "execution_count": 48,
     "metadata": {},
     "output_type": "execute_result"
    }
   ],
   "source": [
    "dict_test"
   ]
  },
  {
   "cell_type": "code",
   "execution_count": 49,
   "id": "fe3bb2f9",
   "metadata": {},
   "outputs": [
    {
     "data": {
      "text/html": [
       "<div>\n",
       "<style scoped>\n",
       "    .dataframe tbody tr th:only-of-type {\n",
       "        vertical-align: middle;\n",
       "    }\n",
       "\n",
       "    .dataframe tbody tr th {\n",
       "        vertical-align: top;\n",
       "    }\n",
       "\n",
       "    .dataframe thead th {\n",
       "        text-align: right;\n",
       "    }\n",
       "</style>\n",
       "<table border=\"1\" class=\"dataframe\">\n",
       "  <thead>\n",
       "    <tr style=\"text-align: right;\">\n",
       "      <th></th>\n",
       "      <th>Timestamp</th>\n",
       "      <th>Latitude</th>\n",
       "      <th>Longitude</th>\n",
       "      <th>Victim_AGE</th>\n",
       "      <th>Victim_RACE</th>\n",
       "      <th>Victim_Sex</th>\n",
       "      <th>Category</th>\n",
       "    </tr>\n",
       "  </thead>\n",
       "  <tbody>\n",
       "    <tr>\n",
       "      <th>0</th>\n",
       "      <td>12/25 23:00:00</td>\n",
       "      <td>40.772875</td>\n",
       "      <td>-73.989542</td>\n",
       "      <td>45-64</td>\n",
       "      <td>BLACK</td>\n",
       "      <td>M</td>\n",
       "      <td>MISDEMEANOR</td>\n",
       "    </tr>\n",
       "    <tr>\n",
       "      <th>1</th>\n",
       "      <td>12/15 04:15:00</td>\n",
       "      <td>40.807781</td>\n",
       "      <td>-73.945485</td>\n",
       "      <td>25-44</td>\n",
       "      <td>WHITE</td>\n",
       "      <td>F</td>\n",
       "      <td>VIOLATION</td>\n",
       "    </tr>\n",
       "    <tr>\n",
       "      <th>2</th>\n",
       "      <td>12/05 22:00:00</td>\n",
       "      <td>40.828851</td>\n",
       "      <td>-73.943834</td>\n",
       "      <td>25-44</td>\n",
       "      <td>WHITE</td>\n",
       "      <td>F</td>\n",
       "      <td>MISDEMEANOR</td>\n",
       "    </tr>\n",
       "    <tr>\n",
       "      <th>3</th>\n",
       "      <td>12/10 15:30:00</td>\n",
       "      <td>40.816509</td>\n",
       "      <td>-73.946547</td>\n",
       "      <td>&lt;18</td>\n",
       "      <td>BLACK</td>\n",
       "      <td>F</td>\n",
       "      <td>MISDEMEANOR</td>\n",
       "    </tr>\n",
       "    <tr>\n",
       "      <th>4</th>\n",
       "      <td>12/08 23:20:00</td>\n",
       "      <td>40.789633</td>\n",
       "      <td>-73.940068</td>\n",
       "      <td>25-44</td>\n",
       "      <td>WHITE</td>\n",
       "      <td>M</td>\n",
       "      <td>VIOLATION</td>\n",
       "    </tr>\n",
       "  </tbody>\n",
       "</table>\n",
       "</div>"
      ],
      "text/plain": [
       "        Timestamp   Latitude  Longitude Victim_AGE Victim_RACE Victim_Sex  \\\n",
       "0  12/25 23:00:00  40.772875 -73.989542      45-64       BLACK          M   \n",
       "1  12/15 04:15:00  40.807781 -73.945485      25-44       WHITE          F   \n",
       "2  12/05 22:00:00  40.828851 -73.943834      25-44       WHITE          F   \n",
       "3  12/10 15:30:00  40.816509 -73.946547        <18       BLACK          F   \n",
       "4  12/08 23:20:00  40.789633 -73.940068      25-44       WHITE          M   \n",
       "\n",
       "      Category  \n",
       "0  MISDEMEANOR  \n",
       "1    VIOLATION  \n",
       "2  MISDEMEANOR  \n",
       "3  MISDEMEANOR  \n",
       "4    VIOLATION  "
      ]
     },
     "execution_count": 49,
     "metadata": {},
     "output_type": "execute_result"
    }
   ],
   "source": [
    "df.head()"
   ]
  },
  {
   "cell_type": "code",
   "execution_count": 65,
   "id": "b794bce2",
   "metadata": {},
   "outputs": [],
   "source": [
    "dic = {}"
   ]
  },
  {
   "cell_type": "code",
   "execution_count": 66,
   "id": "df6f799a",
   "metadata": {},
   "outputs": [],
   "source": [
    "y_age, labels_age = pd.factorize(df['Victim_AGE'])\n",
    "dict_age = dict(zip(range(len(labels_age)), labels_age))\n",
    "dic['age'] = dict_age"
   ]
  },
  {
   "cell_type": "code",
   "execution_count": 68,
   "id": "4a24f0f9",
   "metadata": {},
   "outputs": [],
   "source": [
    "y_race, labels_race = pd.factorize(df['Victim_RACE'])\n",
    "dict_race = dict(zip(range(len(labels_race)), labels_race))\n",
    "dic['race'] = dict_race"
   ]
  },
  {
   "cell_type": "code",
   "execution_count": 69,
   "id": "9d8b3c7c",
   "metadata": {},
   "outputs": [],
   "source": [
    "y_sex, labels_sex = pd.factorize(df['Victim_Sex'])\n",
    "dict_sex = dict(zip(range(len(labels_sex)), labels_sex))\n",
    "dic['sex'] = dict_sex"
   ]
  },
  {
   "cell_type": "code",
   "execution_count": 70,
   "id": "31aa3a8e",
   "metadata": {},
   "outputs": [],
   "source": [
    "y_cat, labels_cat = pd.factorize(df['Category'])\n",
    "dict_cat = dict(zip(range(len(labels_cat)), labels_cat))\n",
    "dic['category'] = dict_cat"
   ]
  },
  {
   "cell_type": "code",
   "execution_count": 72,
   "id": "330b4ac6",
   "metadata": {},
   "outputs": [
    {
     "data": {
      "text/plain": [
       "{'age': {0: '45-64', 1: '25-44', 2: '<18', 3: '18-24', 4: '65+'},\n",
       " 'race': {0: 'BLACK',\n",
       "  1: 'WHITE',\n",
       "  2: 'WHITE HISPANIC',\n",
       "  3: 'BLACK HISPANIC',\n",
       "  4: 'ASIAN / PACIFIC ISLANDER',\n",
       "  5: 'AMERICAN INDIAN/ALASKAN NATIVE'},\n",
       " 'sex': {0: 'M', 1: 'F'},\n",
       " 'category': {0: 'MISDEMEANOR', 1: 'VIOLATION', 2: 'FELONY'}}"
      ]
     },
     "execution_count": 72,
     "metadata": {},
     "output_type": "execute_result"
    }
   ],
   "source": [
    "dic"
   ]
  },
  {
   "cell_type": "code",
   "execution_count": 73,
   "id": "d9cfa907",
   "metadata": {},
   "outputs": [],
   "source": [
    "import json\n",
    "with open(\"labels.json\", \"w\") as f:\n",
    "    json.dump(dic, f)"
   ]
  },
  {
   "cell_type": "code",
   "execution_count": 74,
   "id": "b747fcc4",
   "metadata": {},
   "outputs": [
    {
     "data": {
      "text/html": [
       "<div>\n",
       "<style scoped>\n",
       "    .dataframe tbody tr th:only-of-type {\n",
       "        vertical-align: middle;\n",
       "    }\n",
       "\n",
       "    .dataframe tbody tr th {\n",
       "        vertical-align: top;\n",
       "    }\n",
       "\n",
       "    .dataframe thead th {\n",
       "        text-align: right;\n",
       "    }\n",
       "</style>\n",
       "<table border=\"1\" class=\"dataframe\">\n",
       "  <thead>\n",
       "    <tr style=\"text-align: right;\">\n",
       "      <th></th>\n",
       "      <th>Timestamp</th>\n",
       "      <th>Latitude</th>\n",
       "      <th>Longitude</th>\n",
       "      <th>Victim_AGE</th>\n",
       "      <th>Victim_RACE</th>\n",
       "      <th>Victim_Sex</th>\n",
       "      <th>Category</th>\n",
       "    </tr>\n",
       "  </thead>\n",
       "  <tbody>\n",
       "    <tr>\n",
       "      <th>0</th>\n",
       "      <td>12/25 23:00:00</td>\n",
       "      <td>40.772875</td>\n",
       "      <td>-73.989542</td>\n",
       "      <td>45-64</td>\n",
       "      <td>BLACK</td>\n",
       "      <td>M</td>\n",
       "      <td>MISDEMEANOR</td>\n",
       "    </tr>\n",
       "    <tr>\n",
       "      <th>1</th>\n",
       "      <td>12/15 04:15:00</td>\n",
       "      <td>40.807781</td>\n",
       "      <td>-73.945485</td>\n",
       "      <td>25-44</td>\n",
       "      <td>WHITE</td>\n",
       "      <td>F</td>\n",
       "      <td>VIOLATION</td>\n",
       "    </tr>\n",
       "    <tr>\n",
       "      <th>2</th>\n",
       "      <td>12/05 22:00:00</td>\n",
       "      <td>40.828851</td>\n",
       "      <td>-73.943834</td>\n",
       "      <td>25-44</td>\n",
       "      <td>WHITE</td>\n",
       "      <td>F</td>\n",
       "      <td>MISDEMEANOR</td>\n",
       "    </tr>\n",
       "    <tr>\n",
       "      <th>3</th>\n",
       "      <td>12/10 15:30:00</td>\n",
       "      <td>40.816509</td>\n",
       "      <td>-73.946547</td>\n",
       "      <td>&lt;18</td>\n",
       "      <td>BLACK</td>\n",
       "      <td>F</td>\n",
       "      <td>MISDEMEANOR</td>\n",
       "    </tr>\n",
       "    <tr>\n",
       "      <th>4</th>\n",
       "      <td>12/08 23:20:00</td>\n",
       "      <td>40.789633</td>\n",
       "      <td>-73.940068</td>\n",
       "      <td>25-44</td>\n",
       "      <td>WHITE</td>\n",
       "      <td>M</td>\n",
       "      <td>VIOLATION</td>\n",
       "    </tr>\n",
       "    <tr>\n",
       "      <th>...</th>\n",
       "      <td>...</td>\n",
       "      <td>...</td>\n",
       "      <td>...</td>\n",
       "      <td>...</td>\n",
       "      <td>...</td>\n",
       "      <td>...</td>\n",
       "      <td>...</td>\n",
       "    </tr>\n",
       "    <tr>\n",
       "      <th>1085618</th>\n",
       "      <td>07/17 17:55:00</td>\n",
       "      <td>40.718900</td>\n",
       "      <td>-74.002317</td>\n",
       "      <td>25-44</td>\n",
       "      <td>BLACK</td>\n",
       "      <td>F</td>\n",
       "      <td>FELONY</td>\n",
       "    </tr>\n",
       "    <tr>\n",
       "      <th>1085619</th>\n",
       "      <td>09/29 03:00:00</td>\n",
       "      <td>40.740161</td>\n",
       "      <td>-73.976574</td>\n",
       "      <td>25-44</td>\n",
       "      <td>WHITE HISPANIC</td>\n",
       "      <td>M</td>\n",
       "      <td>MISDEMEANOR</td>\n",
       "    </tr>\n",
       "    <tr>\n",
       "      <th>1085620</th>\n",
       "      <td>01/22 21:35:00</td>\n",
       "      <td>40.756266</td>\n",
       "      <td>-73.990501</td>\n",
       "      <td>45-64</td>\n",
       "      <td>ASIAN / PACIFIC ISLANDER</td>\n",
       "      <td>F</td>\n",
       "      <td>FELONY</td>\n",
       "    </tr>\n",
       "    <tr>\n",
       "      <th>1085621</th>\n",
       "      <td>09/12 00:10:00</td>\n",
       "      <td>40.720848</td>\n",
       "      <td>-74.000662</td>\n",
       "      <td>25-44</td>\n",
       "      <td>WHITE HISPANIC</td>\n",
       "      <td>F</td>\n",
       "      <td>MISDEMEANOR</td>\n",
       "    </tr>\n",
       "    <tr>\n",
       "      <th>1085622</th>\n",
       "      <td>12/11 07:30:00</td>\n",
       "      <td>40.811812</td>\n",
       "      <td>-73.938329</td>\n",
       "      <td>&lt;18</td>\n",
       "      <td>BLACK</td>\n",
       "      <td>M</td>\n",
       "      <td>MISDEMEANOR</td>\n",
       "    </tr>\n",
       "  </tbody>\n",
       "</table>\n",
       "<p>1085501 rows × 7 columns</p>\n",
       "</div>"
      ],
      "text/plain": [
       "              Timestamp   Latitude  Longitude Victim_AGE  \\\n",
       "0        12/25 23:00:00  40.772875 -73.989542      45-64   \n",
       "1        12/15 04:15:00  40.807781 -73.945485      25-44   \n",
       "2        12/05 22:00:00  40.828851 -73.943834      25-44   \n",
       "3        12/10 15:30:00  40.816509 -73.946547        <18   \n",
       "4        12/08 23:20:00  40.789633 -73.940068      25-44   \n",
       "...                 ...        ...        ...        ...   \n",
       "1085618  07/17 17:55:00  40.718900 -74.002317      25-44   \n",
       "1085619  09/29 03:00:00  40.740161 -73.976574      25-44   \n",
       "1085620  01/22 21:35:00  40.756266 -73.990501      45-64   \n",
       "1085621  09/12 00:10:00  40.720848 -74.000662      25-44   \n",
       "1085622  12/11 07:30:00  40.811812 -73.938329        <18   \n",
       "\n",
       "                      Victim_RACE Victim_Sex     Category  \n",
       "0                           BLACK          M  MISDEMEANOR  \n",
       "1                           WHITE          F    VIOLATION  \n",
       "2                           WHITE          F  MISDEMEANOR  \n",
       "3                           BLACK          F  MISDEMEANOR  \n",
       "4                           WHITE          M    VIOLATION  \n",
       "...                           ...        ...          ...  \n",
       "1085618                     BLACK          F       FELONY  \n",
       "1085619            WHITE HISPANIC          M  MISDEMEANOR  \n",
       "1085620  ASIAN / PACIFIC ISLANDER          F       FELONY  \n",
       "1085621            WHITE HISPANIC          F  MISDEMEANOR  \n",
       "1085622                     BLACK          M  MISDEMEANOR  \n",
       "\n",
       "[1085501 rows x 7 columns]"
      ]
     },
     "execution_count": 74,
     "metadata": {},
     "output_type": "execute_result"
    }
   ],
   "source": [
    "df"
   ]
  },
  {
   "cell_type": "code",
   "execution_count": 77,
   "id": "992f959a",
   "metadata": {},
   "outputs": [],
   "source": [
    "df['Victim_AGE'] = y_age\n",
    "df['Victim_RACE'] = y_race\n",
    "df['Victim_Sex'] = y_sex\n",
    "df['Category'] = y_cat"
   ]
  },
  {
   "cell_type": "code",
   "execution_count": 78,
   "id": "394f87a9",
   "metadata": {},
   "outputs": [
    {
     "data": {
      "text/html": [
       "<div>\n",
       "<style scoped>\n",
       "    .dataframe tbody tr th:only-of-type {\n",
       "        vertical-align: middle;\n",
       "    }\n",
       "\n",
       "    .dataframe tbody tr th {\n",
       "        vertical-align: top;\n",
       "    }\n",
       "\n",
       "    .dataframe thead th {\n",
       "        text-align: right;\n",
       "    }\n",
       "</style>\n",
       "<table border=\"1\" class=\"dataframe\">\n",
       "  <thead>\n",
       "    <tr style=\"text-align: right;\">\n",
       "      <th></th>\n",
       "      <th>Timestamp</th>\n",
       "      <th>Latitude</th>\n",
       "      <th>Longitude</th>\n",
       "      <th>Victim_AGE</th>\n",
       "      <th>Victim_RACE</th>\n",
       "      <th>Victim_Sex</th>\n",
       "      <th>Category</th>\n",
       "    </tr>\n",
       "  </thead>\n",
       "  <tbody>\n",
       "    <tr>\n",
       "      <th>0</th>\n",
       "      <td>12/25 23:00:00</td>\n",
       "      <td>40.772875</td>\n",
       "      <td>-73.989542</td>\n",
       "      <td>0</td>\n",
       "      <td>0</td>\n",
       "      <td>0</td>\n",
       "      <td>0</td>\n",
       "    </tr>\n",
       "    <tr>\n",
       "      <th>1</th>\n",
       "      <td>12/15 04:15:00</td>\n",
       "      <td>40.807781</td>\n",
       "      <td>-73.945485</td>\n",
       "      <td>1</td>\n",
       "      <td>1</td>\n",
       "      <td>1</td>\n",
       "      <td>1</td>\n",
       "    </tr>\n",
       "    <tr>\n",
       "      <th>2</th>\n",
       "      <td>12/05 22:00:00</td>\n",
       "      <td>40.828851</td>\n",
       "      <td>-73.943834</td>\n",
       "      <td>1</td>\n",
       "      <td>1</td>\n",
       "      <td>1</td>\n",
       "      <td>0</td>\n",
       "    </tr>\n",
       "    <tr>\n",
       "      <th>3</th>\n",
       "      <td>12/10 15:30:00</td>\n",
       "      <td>40.816509</td>\n",
       "      <td>-73.946547</td>\n",
       "      <td>2</td>\n",
       "      <td>0</td>\n",
       "      <td>1</td>\n",
       "      <td>0</td>\n",
       "    </tr>\n",
       "    <tr>\n",
       "      <th>4</th>\n",
       "      <td>12/08 23:20:00</td>\n",
       "      <td>40.789633</td>\n",
       "      <td>-73.940068</td>\n",
       "      <td>1</td>\n",
       "      <td>1</td>\n",
       "      <td>0</td>\n",
       "      <td>1</td>\n",
       "    </tr>\n",
       "    <tr>\n",
       "      <th>...</th>\n",
       "      <td>...</td>\n",
       "      <td>...</td>\n",
       "      <td>...</td>\n",
       "      <td>...</td>\n",
       "      <td>...</td>\n",
       "      <td>...</td>\n",
       "      <td>...</td>\n",
       "    </tr>\n",
       "    <tr>\n",
       "      <th>1085618</th>\n",
       "      <td>07/17 17:55:00</td>\n",
       "      <td>40.718900</td>\n",
       "      <td>-74.002317</td>\n",
       "      <td>1</td>\n",
       "      <td>0</td>\n",
       "      <td>1</td>\n",
       "      <td>2</td>\n",
       "    </tr>\n",
       "    <tr>\n",
       "      <th>1085619</th>\n",
       "      <td>09/29 03:00:00</td>\n",
       "      <td>40.740161</td>\n",
       "      <td>-73.976574</td>\n",
       "      <td>1</td>\n",
       "      <td>2</td>\n",
       "      <td>0</td>\n",
       "      <td>0</td>\n",
       "    </tr>\n",
       "    <tr>\n",
       "      <th>1085620</th>\n",
       "      <td>01/22 21:35:00</td>\n",
       "      <td>40.756266</td>\n",
       "      <td>-73.990501</td>\n",
       "      <td>0</td>\n",
       "      <td>4</td>\n",
       "      <td>1</td>\n",
       "      <td>2</td>\n",
       "    </tr>\n",
       "    <tr>\n",
       "      <th>1085621</th>\n",
       "      <td>09/12 00:10:00</td>\n",
       "      <td>40.720848</td>\n",
       "      <td>-74.000662</td>\n",
       "      <td>1</td>\n",
       "      <td>2</td>\n",
       "      <td>1</td>\n",
       "      <td>0</td>\n",
       "    </tr>\n",
       "    <tr>\n",
       "      <th>1085622</th>\n",
       "      <td>12/11 07:30:00</td>\n",
       "      <td>40.811812</td>\n",
       "      <td>-73.938329</td>\n",
       "      <td>2</td>\n",
       "      <td>0</td>\n",
       "      <td>0</td>\n",
       "      <td>0</td>\n",
       "    </tr>\n",
       "  </tbody>\n",
       "</table>\n",
       "<p>1085501 rows × 7 columns</p>\n",
       "</div>"
      ],
      "text/plain": [
       "              Timestamp   Latitude  Longitude  Victim_AGE  Victim_RACE  \\\n",
       "0        12/25 23:00:00  40.772875 -73.989542           0            0   \n",
       "1        12/15 04:15:00  40.807781 -73.945485           1            1   \n",
       "2        12/05 22:00:00  40.828851 -73.943834           1            1   \n",
       "3        12/10 15:30:00  40.816509 -73.946547           2            0   \n",
       "4        12/08 23:20:00  40.789633 -73.940068           1            1   \n",
       "...                 ...        ...        ...         ...          ...   \n",
       "1085618  07/17 17:55:00  40.718900 -74.002317           1            0   \n",
       "1085619  09/29 03:00:00  40.740161 -73.976574           1            2   \n",
       "1085620  01/22 21:35:00  40.756266 -73.990501           0            4   \n",
       "1085621  09/12 00:10:00  40.720848 -74.000662           1            2   \n",
       "1085622  12/11 07:30:00  40.811812 -73.938329           2            0   \n",
       "\n",
       "         Victim_Sex  Category  \n",
       "0                 0         0  \n",
       "1                 1         1  \n",
       "2                 1         0  \n",
       "3                 1         0  \n",
       "4                 0         1  \n",
       "...             ...       ...  \n",
       "1085618           1         2  \n",
       "1085619           0         0  \n",
       "1085620           1         2  \n",
       "1085621           1         0  \n",
       "1085622           0         0  \n",
       "\n",
       "[1085501 rows x 7 columns]"
      ]
     },
     "execution_count": 78,
     "metadata": {},
     "output_type": "execute_result"
    }
   ],
   "source": [
    "df"
   ]
  },
  {
   "cell_type": "code",
   "execution_count": 79,
   "id": "44affb86",
   "metadata": {},
   "outputs": [],
   "source": [
    "df.to_csv('./Datasets/dataset_encode.csv',index=False, header=['Timestamp','Latitude','Longitude','Victim_AGE','Victim_RACE','Victim_Sex', 'Category'])\n"
   ]
  },
  {
   "cell_type": "code",
   "execution_count": null,
   "id": "48943615",
   "metadata": {},
   "outputs": [],
   "source": []
  }
 ],
 "metadata": {
  "kernelspec": {
   "display_name": "Python 3",
   "language": "python",
   "name": "python3"
  },
  "language_info": {
   "codemirror_mode": {
    "name": "ipython",
    "version": 3
   },
   "file_extension": ".py",
   "mimetype": "text/x-python",
   "name": "python",
   "nbconvert_exporter": "python",
   "pygments_lexer": "ipython3",
   "version": "3.8.8"
  }
 },
 "nbformat": 4,
 "nbformat_minor": 5
}
